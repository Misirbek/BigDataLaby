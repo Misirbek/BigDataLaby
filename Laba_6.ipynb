{
 "cells": [
  {
   "metadata": {
    "ExecuteTime": {
     "end_time": "2024-12-05T21:29:13.610395Z",
     "start_time": "2024-12-05T21:29:10.673424Z"
    }
   },
   "cell_type": "code",
   "source": [
    "import numpy as np\n",
    "import pandas as pd\n",
    "from sklearn.model_selection import train_test_split, cross_val_score, GridSearchCV\n",
    "from sklearn.linear_model import LogisticRegression\n",
    "from sklearn.metrics import mean_squared_error, r2_score\n",
    "from sklearn.datasets import load_diabetes\n",
    "from sklearn.preprocessing import StandardScaler\n",
    "\n",
    "# Загрузка датасета диабета\n",
    "diabetes = load_diabetes()\n",
    "X = diabetes.data\n",
    "y = diabetes.target\n",
    "\n",
    "# Разделение данных на обучающую и тестовую выборки\n",
    "X_train, X_test, y_train, y_test = train_test_split(X, y, test_size=0.3, random_state=42)\n",
    "\n",
    "# Масштабирование данных\n",
    "scaler = StandardScaler()\n",
    "X_train_scaled = scaler.fit_transform(X_train)\n",
    "X_test_scaled = scaler.transform(X_test)\n",
    "\n",
    "# Инициализация модели\n",
    "model = LogisticRegression(max_iter=10000)\n",
    "\n",
    "# Перекрестная проверка\n",
    "cv_scores = cross_val_score(model, X_train_scaled, y_train, cv=5)\n",
    "print(f\"Средняя точность перекрестной проверки: {cv_scores.mean():.2f}\")\n",
    "\n",
    "# Поиск оптимальных гиперпараметров с помощью GridSearchCV\n",
    "param_grid = {'C': [0.1, 1, 10, 100], 'solver': ['lbfgs', 'liblinear']}\n",
    "grid_search = GridSearchCV(model, param_grid, cv=5)\n",
    "grid_search.fit(X_train_scaled, y_train)\n",
    "\n",
    "print(f\"Лучшие параметры: {grid_search.best_params_}\")\n",
    "\n",
    "# Оценка модели на тестовых данных\n",
    "best_model = grid_search.best_estimator_\n",
    "y_pred = best_model.predict(X_test_scaled)\n",
    "\n",
    "# Метрики для регрессии\n",
    "mse = mean_squared_error(y_test, y_pred)\n",
    "r2 = r2_score(y_test, y_pred)\n",
    "\n",
    "print(f\"Среднеквадратичная ошибка (MSE): {mse:.2f}\")\n",
    "print(f\"R²: {r2:.2f}\")\n",
    "\n",
    "# Дополнительно можно вывести прогнозы и фактические значения\n",
    "print(\"\\nСравнение фактических и предсказанных значений:\")\n",
    "comparison = pd.DataFrame({'Actual': y_test, 'Predicted': y_pred})\n",
    "print(comparison.head())\n"
   ],
   "id": "40ae9b5a2e8bdcc2",
   "outputs": [
    {
     "name": "stderr",
     "output_type": "stream",
     "text": [
      "C:\\Users\\misir\\PycharmProjects\\Laby_6-7\\.venv\\Lib\\site-packages\\sklearn\\model_selection\\_split.py:776: UserWarning: The least populated class in y has only 1 members, which is less than n_splits=5.\n",
      "  warnings.warn(\n"
     ]
    },
    {
     "name": "stdout",
     "output_type": "stream",
     "text": [
      "Средняя точность перекрестной проверки: 0.01\n"
     ]
    },
    {
     "name": "stderr",
     "output_type": "stream",
     "text": [
      "C:\\Users\\misir\\PycharmProjects\\Laby_6-7\\.venv\\Lib\\site-packages\\sklearn\\model_selection\\_split.py:776: UserWarning: The least populated class in y has only 1 members, which is less than n_splits=5.\n",
      "  warnings.warn(\n"
     ]
    },
    {
     "name": "stdout",
     "output_type": "stream",
     "text": [
      "Лучшие параметры: {'C': 0.1, 'solver': 'lbfgs'}\n",
      "Среднеквадратичная ошибка (MSE): 5151.07\n",
      "R²: 0.05\n",
      "\n",
      "Сравнение фактических и предсказанных значений:\n",
      "   Actual  Predicted\n",
      "0   219.0      109.0\n",
      "1    70.0      141.0\n",
      "2   202.0      109.0\n",
      "3   230.0      248.0\n",
      "4   111.0      131.0\n"
     ]
    }
   ],
   "execution_count": 13
  },
  {
   "metadata": {
    "ExecuteTime": {
     "end_time": "2024-12-05T21:29:29.440682Z",
     "start_time": "2024-12-05T21:29:29.173495Z"
    }
   },
   "cell_type": "code",
   "source": [
    "import pandas as pd\n",
    "from sklearn.model_selection import train_test_split\n",
    "from sklearn.ensemble import RandomForestClassifier\n",
    "from sklearn.metrics import accuracy_score, confusion_matrix, classification_report\n",
    "\n",
    "# Создание игрушечного набора данных\n",
    "data = {\n",
    "    'salary': [50000, 60000, 70000, 80000, 75000, 95000, 40000, 35000, 100000, 60000],\n",
    "    'city': ['Moscow', 'Saint Petersburg', 'Moscow', 'Saint Petersburg', 'Moscow', 'Moscow', 'Saint Petersburg', 'Moscow', 'Saint Petersburg', 'Moscow'],\n",
    "    'age': [25, 30, 35, 40, 45, 50, 25, 30, 35, 40],\n",
    "    'vacation_prefer': ['beach', 'mountains', 'beach', 'beach', 'mountains', 'mountains', 'beach', 'mountains', 'beach', 'mountains'],\n",
    "    'transport_prefer': ['car', 'train', 'plane', 'train', 'car', 'plane', 'train', 'car', 'train', 'plane'],\n",
    "    'target': ['Moscow', 'Saint Petersburg', 'Moscow', 'Saint Petersburg', 'Moscow', 'Moscow', 'Saint Petersburg', 'Moscow', 'Saint Petersburg', 'Moscow']\n",
    "}\n",
    "\n",
    "df = pd.DataFrame(data)\n",
    "\n",
    "# Преобразование категориальных данных в числовые (один столбец для каждого уникального значения)\n",
    "df_encoded = pd.get_dummies(df, drop_first=True)\n",
    "\n",
    "# Определение признаков и целевой переменной\n",
    "X = df_encoded.drop('target_Saint Petersburg', axis=1)  # Целевая переменная после кодирования\n",
    "y = df_encoded['target_Saint Petersburg']  # Целевая переменная\n",
    "\n",
    "# Разделение на обучающую и тестовую выборки\n",
    "X_train, X_test, y_train, y_test = train_test_split(X, y, test_size=0.3, random_state=42)\n",
    "\n",
    "# Инициализация модели\n",
    "model = RandomForestClassifier()\n",
    "\n",
    "# Обучение модели\n",
    "model.fit(X_train, y_train)\n",
    "\n",
    "# Прогнозирование\n",
    "y_pred = model.predict(X_test)\n",
    "\n",
    "# Оценка модели\n",
    "print(f\"Точность модели: {accuracy_score(y_test, y_pred):.2f}\")\n",
    "print(\"\\nМатрица ошибок (Confusion Matrix):\")\n",
    "cm = confusion_matrix(y_test, y_pred)\n",
    "print(cm)\n",
    "\n",
    "# Расширенный отчет по классификации\n",
    "print(\"\\nОтчет по классификации (Precision, Recall, F1-Score):\")\n",
    "report = classification_report(y_test, y_pred)\n",
    "print(report)\n",
    "\n",
    "# Дополнительная информация:\n",
    "# 1. Количество наблюдений в обучающем и тестовом наборах\n",
    "print(f\"\\nРазмер обучающей выборки: {len(X_train)}\")\n",
    "print(f\"Размер тестовой выборки: {len(X_test)}\")\n",
    "\n",
    "# 2. Доля правильных и ошибочных классификаций\n",
    "correct_predictions = (y_pred == y_test).sum()\n",
    "incorrect_predictions = (y_pred != y_test).sum()\n",
    "total_predictions = len(y_pred)\n",
    "print(f\"\\nПравильных предсказаний: {correct_predictions} ({(correct_predictions / total_predictions) * 100:.2f}%)\")\n",
    "print(f\"Ошибочных предсказаний: {incorrect_predictions} ({(incorrect_predictions / total_predictions) * 100:.2f}%)\")\n",
    "\n",
    "# 3. Другое полезное: Количество уникальных значений в целевой переменной\n",
    "print(\"\\nУникальные значения в целевой переменной:\")\n",
    "print(y.unique())\n",
    "\n",
    "# 4. Прогнозы по каждой строке (если необходимо, для анализа ошибок)\n",
    "print(\"\\nПрогнозы по тестовой выборке (вместе с фактическими значениями):\")\n",
    "comparison = pd.DataFrame({'Actual': y_test, 'Predicted': y_pred})\n",
    "\n",
    "# Преобразуем предсказанные метки обратно в город\n",
    "comparison['Predicted_City'] = comparison['Predicted'].map({0: 'Moscow', 1: 'Saint Petersburg'})\n",
    "\n",
    "print(comparison)\n",
    "\n",
    "# 5. Дополнительная информация о выбранных городах\n",
    "print(\"\\nГорода, выбранные моделью (Predicted):\")\n",
    "print(comparison['Predicted_City'].value_counts())\n"
   ],
   "id": "8e354b85c73e7678",
   "outputs": [
    {
     "name": "stdout",
     "output_type": "stream",
     "text": [
      "Точность модели: 1.00\n",
      "\n",
      "Матрица ошибок (Confusion Matrix):\n",
      "[[1 0]\n",
      " [0 2]]\n",
      "\n",
      "Отчет по классификации (Precision, Recall, F1-Score):\n",
      "              precision    recall  f1-score   support\n",
      "\n",
      "       False       1.00      1.00      1.00         1\n",
      "        True       1.00      1.00      1.00         2\n",
      "\n",
      "    accuracy                           1.00         3\n",
      "   macro avg       1.00      1.00      1.00         3\n",
      "weighted avg       1.00      1.00      1.00         3\n",
      "\n",
      "\n",
      "Размер обучающей выборки: 7\n",
      "Размер тестовой выборки: 3\n",
      "\n",
      "Правильных предсказаний: 3 (100.00%)\n",
      "Ошибочных предсказаний: 0 (0.00%)\n",
      "\n",
      "Уникальные значения в целевой переменной:\n",
      "[False  True]\n",
      "\n",
      "Прогнозы по тестовой выборке (вместе с фактическими значениями):\n",
      "   Actual  Predicted Predicted_City\n",
      "8    True       True            NaN\n",
      "1    True       True            NaN\n",
      "5   False      False            NaN\n",
      "\n",
      "Города, выбранные моделью (Predicted):\n",
      "Series([], Name: count, dtype: int64)\n"
     ]
    }
   ],
   "execution_count": 14
  }
 ],
 "metadata": {
  "kernelspec": {
   "display_name": "Python 3",
   "language": "python",
   "name": "python3"
  },
  "language_info": {
   "codemirror_mode": {
    "name": "ipython",
    "version": 2
   },
   "file_extension": ".py",
   "mimetype": "text/x-python",
   "name": "python",
   "nbconvert_exporter": "python",
   "pygments_lexer": "ipython2",
   "version": "2.7.6"
  }
 },
 "nbformat": 4,
 "nbformat_minor": 5
}
