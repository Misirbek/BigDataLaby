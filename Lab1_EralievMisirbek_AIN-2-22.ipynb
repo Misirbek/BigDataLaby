{
 "cells": [
  {
   "cell_type": "code",
   "execution_count": null,
   "id": "initial_id",
   "metadata": {
    "collapsed": true,
    "is_executing": true
   },
   "outputs": [],
   "source": [
    "import math\n",
    "import random"
   ]
  },
  {
   "cell_type": "code",
   "execution_count": null,
   "outputs": [],
   "source": [
    "# Задание 1: Функция для вычисления формулы\n",
    "def calculate_formula(t, x):\n",
    "    f = 9 * math.pi * t + 10 * math.cos(x) * t - math.sin(x) * math.exp(-2 * t)\n",
    "    return f\n"
   ],
   "metadata": {
    "collapsed": false,
    "is_executing": true
   },
   "id": "cca18d36a289d28e"
  },
  {
   "cell_type": "code",
   "execution_count": null,
   "outputs": [],
   "source": [
    "# Задание 2: Функция для поиска чисел в заданном интервале\n",
    "def find_numbers_in_range(a, b, numbers):\n",
    "    return [num for num in numbers if a <= num <= b]\n"
   ],
   "metadata": {
    "collapsed": false,
    "is_executing": true
   },
   "id": "e3a7136b9adbf2cd"
  },
  {
   "cell_type": "code",
   "execution_count": null,
   "outputs": [],
   "source": [
    "# Задание 3: Генерация 20 случайных чисел в диапазоне от 0 до 10\n",
    "random_numbers = [random.randint(0, 10) for _ in range(20)]\n"
   ],
   "metadata": {
    "collapsed": false,
    "is_executing": true
   },
   "id": "2c42d122d6e8d8e8"
  },
  {
   "cell_type": "code",
   "execution_count": null,
   "outputs": [],
   "source": [
    "# Задание 4: Вычисление суммы последовательности\n",
    "def calculate_sequence_sum():\n",
    "    total_sum = 0\n",
    "    for i in range(1, 21):\n",
    "        total_sum += int(f\"{i}{i+1}\")\n",
    "    return total_sum\n"
   ],
   "metadata": {
    "collapsed": false,
    "is_executing": true
   },
   "id": "a5dda08d5b4e59b7"
  },
  {
   "cell_type": "code",
   "execution_count": null,
   "outputs": [],
   "source": [
    "# Пример выполнения:\n",
    "t, x = 2, 1  # Примерные значения для формулы\n",
    "formula_result = calculate_formula(t, x)\n",
    "\n",
    "# Примерный интервал и набор чисел\n",
    "a, b = 3, 7\n",
    "numbers_in_range = find_numbers_in_range(a, b, random_numbers)\n",
    "\n",
    "# Вывод результатов:\n",
    "print(\"Результат формулы:\", formula_result)\n",
    "print(\"Числа в диапазоне от\", a, \"до\", b, \":\", numbers_in_range)\n",
    "print(\"Сумма случайных чисел:\", sum(random_numbers))\n",
    "print(\"Сумма последовательности:\", calculate_sequence_sum())\n"
   ],
   "metadata": {
    "collapsed": false,
    "is_executing": true
   },
   "id": "5d37ba23cf59e69"
  },
  {
   "cell_type": "code",
   "execution_count": null,
   "outputs": [],
   "source": [],
   "metadata": {
    "collapsed": false,
    "is_executing": true
   },
   "id": "7387d61671a2da6e"
  }
 ],
 "metadata": {
  "kernelspec": {
   "display_name": "Python 3",
   "language": "python",
   "name": "python3"
  },
  "language_info": {
   "codemirror_mode": {
    "name": "ipython",
    "version": 2
   },
   "file_extension": ".py",
   "mimetype": "text/x-python",
   "name": "python",
   "nbconvert_exporter": "python",
   "pygments_lexer": "ipython2",
   "version": "2.7.6"
  }
 },
 "nbformat": 4,
 "nbformat_minor": 5
}
