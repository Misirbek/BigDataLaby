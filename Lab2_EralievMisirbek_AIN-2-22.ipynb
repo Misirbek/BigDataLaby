{
 "cells": [
  {
   "cell_type": "code",
   "execution_count": null,
   "id": "initial_id",
   "metadata": {
    "collapsed": true
   },
   "outputs": [],
   "source": [
    "import numpy as np\n",
    "import pandas as pd\n"
   ]
  },
  {
   "cell_type": "code",
   "execution_count": null,
   "outputs": [],
   "source": [
    "my_array = np.arange(0, 101, 5)\n",
    "print(my_array)\n",
    "multiples_of_10 = my_array[my_array % 10 == 0]\n",
    "print(multiples_of_10)\n",
    "my_2d_array = my_array.reshape(-1, 2)\n",
    "print(my_2d_array)\n",
    "my_second_array = my_array - 5\n",
    "print(my_second_array)\n",
    "combined_array = np.hstack((my_array.reshape(-1, 1), my_second_array.reshape(-1, 1)))\n",
    "print(combined_array)\n",
    "transposed_array = combined_array.T\n",
    "div_result = transposed_array[1] / transposed_array[0]\n",
    "print(div_result)\n",
    "unchanged_values = transposed_array[:, div_result == 1]\n",
    "print(unchanged_values)\n",
    "mean_values = np.mean(my_2d_array, axis=1)\n",
    "median_values = np.median(my_2d_array, axis=1)\n",
    "std_values = np.std(my_2d_array, axis=1)\n",
    "print(\"Mean:\", mean_values)\n",
    "print(\"Median:\", median_values)\n",
    "print(\"Standard deviation:\", std_values)\n",
    "normalized_array = my_2d_array / np.max(my_2d_array, axis=1, keepdims=True)\n",
    "print(normalized_array)\n"
   ],
   "metadata": {
    "collapsed": false
   },
   "id": "5ea6e6a5e8a9b08"
  },
  {
   "cell_type": "code",
   "execution_count": null,
   "outputs": [],
   "source": [
    "df = pd.read_csv('Global Population Trends(2016-2022).csv')\n",
    "print(df.head())\n",
    "print(df.info())\n",
    "print(df.describe())\n",
    "sorted_df = df.sort_values(by=['Total Population'], ascending=False)\n",
    "print(sorted_df.head())\n",
    "max_population_country = df[df['Total Population'] == df['Total Population'].max()]\n",
    "min_population_country = df[df['Total Population'] == df['Total Population'].min()]\n",
    "print(\"Max Population:\", max_population_country)\n",
    "print(\"Min Population:\", min_population_country)\n"
   ],
   "metadata": {
    "collapsed": false
   },
   "id": "5711783751ff0587"
  }
 ],
 "metadata": {
  "kernelspec": {
   "display_name": "Python 3",
   "language": "python",
   "name": "python3"
  },
  "language_info": {
   "codemirror_mode": {
    "name": "ipython",
    "version": 2
   },
   "file_extension": ".py",
   "mimetype": "text/x-python",
   "name": "python",
   "nbconvert_exporter": "python",
   "pygments_lexer": "ipython2",
   "version": "2.7.6"
  }
 },
 "nbformat": 4,
 "nbformat_minor": 5
}
